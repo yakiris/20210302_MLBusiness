{
 "cells": [
  {
   "cell_type": "markdown",
   "metadata": {},
   "source": [
    "# Тема: Look-alike"
   ]
  },
  {
   "cell_type": "code",
   "execution_count": 1,
   "metadata": {},
   "outputs": [],
   "source": [
    "import numpy as np\n",
    "import pandas as pd\n",
    "import itertools\n",
    "\n",
    "import matplotlib.pyplot as plt\n",
    "%matplotlib inline\n",
    "\n",
    "from sklearn.model_selection import train_test_split\n",
    "from sklearn.metrics import recall_score, precision_score, roc_auc_score, accuracy_score, f1_score, \\\n",
    "                            precision_recall_curve, confusion_matrix, log_loss\n",
    "import catboost as cb\n",
    "\n",
    "import warnings\n",
    "warnings.simplefilter(\"ignore\")\n",
    "\n",
    "pd.options.display.max_columns = 30"
   ]
  },
  {
   "cell_type": "code",
   "execution_count": 2,
   "metadata": {},
   "outputs": [],
   "source": [
    "def get_metrics(y_valid, preds, matrix=True):\n",
    "    \n",
    "    precision, recall, thresholds = precision_recall_curve(y_valid, preds)\n",
    "    fscore = (2 * precision * recall) / (precision + recall)\n",
    "    roc_auc = round(roc_auc_score(y_valid, preds), 3)\n",
    "    logloss = round(log_loss(y_valid, preds), 3)\n",
    "\n",
    "    ix = np.argmax(fscore)\n",
    "    if matrix == True:\n",
    "        print('Best Threshold=%f, F-Score=%.3f, Precision=%.3f, Recall=%.3f, Roc-AUC=%.3f, log-loss=%.3F' % (\n",
    "                        thresholds[ix], fscore[ix], precision[ix], recall[ix], roc_auc, logloss))\n",
    "    \n",
    "        plt.figure(figsize=(8, 6))\n",
    "        font = {'size' : 12}\n",
    "        plt.rc('font', **font)\n",
    "\n",
    "        cnf_matrix = confusion_matrix(y_valid, preds>thresholds[ix])\n",
    "        plot_confusion_matrix(cnf_matrix, classes=['NonChurn', 'Churn'], title='Confusion matrix')\n",
    "        plt.show()\n",
    "    else:\n",
    "        \n",
    "        return thresholds[ix], fscore[ix], precision[ix], recall[ix], roc_auc, logloss"
   ]
  },
  {
   "cell_type": "code",
   "execution_count": 3,
   "metadata": {},
   "outputs": [],
   "source": [
    "def plot_confusion_matrix(cm, classes,\n",
    "                          normalize=False,\n",
    "                          title='Confusion matrix',\n",
    "                          cmap=plt.cm.Blues):\n",
    "    \"\"\"\n",
    "    This function prints and plots the confusion matrix.\n",
    "    Normalization can be applied by setting `normalize=True`.\n",
    "    \"\"\"\n",
    "    plt.imshow(cm, interpolation='nearest', cmap=cmap)\n",
    "    plt.title(title)\n",
    "    plt.colorbar()\n",
    "    tick_marks = np.arange(len(classes))\n",
    "    plt.xticks(tick_marks, classes, rotation=45)\n",
    "    plt.yticks(tick_marks, classes)\n",
    "\n",
    "    if normalize:\n",
    "        cm = cm.astype('float') / cm.sum(axis=1)[:, np.newaxis]\n",
    "        print(\"Normalized confusion matrix\")\n",
    "    else:\n",
    "        print('Confusion matrix, without normalization')\n",
    "\n",
    "    print(cm)\n",
    "\n",
    "    thresh = cm.max() / 2.\n",
    "    for i, j in itertools.product(range(cm.shape[0]), range(cm.shape[1])):\n",
    "        plt.text(j, i, cm[i, j],\n",
    "                 horizontalalignment=\"center\",\n",
    "                 color=\"white\" if cm[i, j] > thresh else \"black\")\n",
    "\n",
    "    plt.tight_layout()\n",
    "    plt.ylabel('True label')\n",
    "    plt.xlabel('Predicted label')"
   ]
  },
  {
   "cell_type": "markdown",
   "metadata": {},
   "source": [
    "### 1. взять любой набор данных для бинарной классификации."
   ]
  },
  {
   "cell_type": "code",
   "execution_count": 32,
   "metadata": {},
   "outputs": [
    {
     "data": {
      "text/html": [
       "<div>\n",
       "<style scoped>\n",
       "    .dataframe tbody tr th:only-of-type {\n",
       "        vertical-align: middle;\n",
       "    }\n",
       "\n",
       "    .dataframe tbody tr th {\n",
       "        vertical-align: top;\n",
       "    }\n",
       "\n",
       "    .dataframe thead th {\n",
       "        text-align: right;\n",
       "    }\n",
       "</style>\n",
       "<table border=\"1\" class=\"dataframe\">\n",
       "  <thead>\n",
       "    <tr style=\"text-align: right;\">\n",
       "      <th></th>\n",
       "      <th>0</th>\n",
       "      <th>1</th>\n",
       "      <th>2</th>\n",
       "      <th>3</th>\n",
       "      <th>target</th>\n",
       "    </tr>\n",
       "  </thead>\n",
       "  <tbody>\n",
       "    <tr>\n",
       "      <th>0</th>\n",
       "      <td>3.6216</td>\n",
       "      <td>8.6661</td>\n",
       "      <td>-2.8073</td>\n",
       "      <td>-0.44699</td>\n",
       "      <td>0</td>\n",
       "    </tr>\n",
       "    <tr>\n",
       "      <th>1</th>\n",
       "      <td>4.5459</td>\n",
       "      <td>8.1674</td>\n",
       "      <td>-2.4586</td>\n",
       "      <td>-1.46210</td>\n",
       "      <td>0</td>\n",
       "    </tr>\n",
       "    <tr>\n",
       "      <th>2</th>\n",
       "      <td>3.8660</td>\n",
       "      <td>-2.6383</td>\n",
       "      <td>1.9242</td>\n",
       "      <td>0.10645</td>\n",
       "      <td>0</td>\n",
       "    </tr>\n",
       "  </tbody>\n",
       "</table>\n",
       "</div>"
      ],
      "text/plain": [
       "        0       1       2        3  target\n",
       "0  3.6216  8.6661 -2.8073 -0.44699       0\n",
       "1  4.5459  8.1674 -2.4586 -1.46210       0\n",
       "2  3.8660 -2.6383  1.9242  0.10645       0"
      ]
     },
     "execution_count": 32,
     "metadata": {},
     "output_type": "execute_result"
    }
   ],
   "source": [
    "df = pd.read_csv(\"data/6_web/data_banknote_authentication.txt\", header=None)\n",
    "df.rename(columns={4:'target'}, inplace=True)\n",
    "df.head(3)"
   ]
  },
  {
   "cell_type": "code",
   "execution_count": 25,
   "metadata": {},
   "outputs": [
    {
     "data": {
      "text/plain": [
       "0    762\n",
       "1    610\n",
       "Name: target, dtype: int64"
      ]
     },
     "execution_count": 25,
     "metadata": {},
     "output_type": "execute_result"
    }
   ],
   "source": [
    "df['target'].value_counts()"
   ]
  },
  {
   "cell_type": "markdown",
   "metadata": {},
   "source": [
    "### 3. сделать feature engineering"
   ]
  },
  {
   "cell_type": "code",
   "execution_count": 33,
   "metadata": {},
   "outputs": [],
   "source": [
    "def transform_data(data):\n",
    "    \n",
    "    for i1, col1 in enumerate(set(df.columns) - set(['target'])):\n",
    "        for i2, col2 in enumerate(set(df.columns) - set(['target'])):\n",
    "            data['%s_%s_1' % (col1, col2)] = data[col1] - data[col2]\n",
    "            data['%s_%s_2' % (col1, col2)] = data[col1] + data[col2]\n",
    "            data['%s_%s_3' % (col1, col2)] = data[col1] * data[col2]\n",
    "\n",
    "    return data\n",
    "\n",
    "df = transform_data(df)"
   ]
  },
  {
   "cell_type": "code",
   "execution_count": 34,
   "metadata": {},
   "outputs": [
    {
     "data": {
      "text/plain": [
       "(1372, 1025)"
      ]
     },
     "execution_count": 34,
     "metadata": {},
     "output_type": "execute_result"
    }
   ],
   "source": [
    "df.shape"
   ]
  },
  {
   "cell_type": "code",
   "execution_count": 35,
   "metadata": {},
   "outputs": [],
   "source": [
    "categorical_features = df.select_dtypes(include=(np.object)).columns.to_list()\n",
    "X = df.drop('target', axis=1)\n",
    "y = df['target']"
   ]
  },
  {
   "cell_type": "markdown",
   "metadata": {},
   "source": [
    "### 4. обучить любой классификатор (какой вам нравится) и посчитать метрики качества (roc auc, pr/rec/f1, logloss)"
   ]
  },
  {
   "cell_type": "code",
   "execution_count": 36,
   "metadata": {},
   "outputs": [
    {
     "data": {
      "text/plain": [
       "((960, 1024), (960,), (412, 1024), (412,))"
      ]
     },
     "execution_count": 36,
     "metadata": {},
     "output_type": "execute_result"
    }
   ],
   "source": [
    "X_train, X_valid = train_test_split(X, train_size=0.7, shuffle=True, random_state=5)\n",
    "y_train, y_valid = train_test_split(y, train_size=0.7, shuffle=True, random_state=5)\n",
    "\n",
    "X_train.shape, y_train.shape, X_valid.shape, y_valid.shape"
   ]
  },
  {
   "cell_type": "code",
   "execution_count": 37,
   "metadata": {},
   "outputs": [
    {
     "name": "stdout",
     "output_type": "stream",
     "text": [
      "Learning rate set to 0.052964\n",
      "0:\ttest: 0.9988007\ttest1: 0.9968350\tbest: 0.9968350 (0)\ttotal: 35.2ms\tremaining: 10.5s\n",
      "30:\ttest: 1.0000000\ttest1: 1.0000000\tbest: 1.0000000 (5)\ttotal: 1.06s\tremaining: 9.19s\n",
      "Stopped by overfitting detector  (25 iterations wait)\n",
      "\n",
      "bestTest = 1\n",
      "bestIteration = 5\n",
      "\n",
      "Shrink model to first 6 iterations.\n"
     ]
    },
    {
     "data": {
      "text/plain": [
       "<catboost.core.CatBoostClassifier at 0x7fbf30b9fd90>"
      ]
     },
     "execution_count": 37,
     "metadata": {},
     "output_type": "execute_result"
    }
   ],
   "source": [
    "params = {\n",
    "    \"n_estimators\": 300,\n",
    "    \"max_depth\": 6,\n",
    "    \"loss_function\": \"Logloss\",\n",
    "    \"eval_metric\": \"AUC\",\n",
    "     \"cat_features\": categorical_features, \n",
    "    \"early_stopping_rounds\": 25,\n",
    "    \"random_state\": 42}\n",
    "\n",
    "model = cb.CatBoostClassifier(**params, verbose=30)\n",
    "\n",
    "model.fit(X_train, y_train, \n",
    "            eval_set=[(X_train, y_train), (X_valid, y_valid)])"
   ]
  },
  {
   "cell_type": "code",
   "execution_count": 38,
   "metadata": {},
   "outputs": [
    {
     "name": "stdout",
     "output_type": "stream",
     "text": [
      "Best Threshold=0.651942, F-Score=1.000, Precision=1.000, Recall=1.000, Roc-AUC=1.000, log-loss=0.259\n",
      "Confusion matrix, without normalization\n",
      "[[222   0]\n",
      " [  1 189]]\n"
     ]
    },
    {
     "data": {
      "image/png": "[encoded data removed]",
      "text/plain": [
       "<Figure size 576x432 with 2 Axes>"
      ]
     },
     "metadata": {
      "needs_background": "light"
     },
     "output_type": "display_data"
    }
   ],
   "source": [
    "preds = model.predict_proba(X_valid)[:, 1:]\n",
    "\n",
    "get_metrics(y_valid, preds, matrix=True)    "
   ]
  },
  {
   "cell_type": "markdown",
   "metadata": {},
   "source": [
    "### 5. далее разделить ваш набор данных на два множества: P (positives) и U (unlabeled). Причем брать нужно не все положительные (класс 1) примеры, а только лишь часть"
   ]
  },
  {
   "cell_type": "code",
   "execution_count": 39,
   "metadata": {},
   "outputs": [],
   "source": [
    "def separation(coef=0.25, detail=True):\n",
    "    \n",
    "    mod_data = df.copy()\n",
    "    pos_ind = np.where(mod_data['target'].values == 1)[0]\n",
    "    np.random.shuffle(pos_ind)\n",
    "    pos_sample_len = int(np.ceil(coef * len(pos_ind)))\n",
    "    \n",
    "    if detail == True:\n",
    "        print(f'Using {pos_sample_len}/{len(pos_ind)} as positives and unlabeling the rest')\n",
    "    pos_sample = pos_ind[:pos_sample_len]\n",
    "\n",
    "    mod_data['class_test'] = -1\n",
    "    mod_data.loc[pos_sample,'class_test'] = 1\n",
    "    \n",
    "    if detail == True:\n",
    "        print('target variable:\\n', mod_data.iloc[:,-1].value_counts())\n",
    "        return mod_data\n",
    "    \n",
    "    else:\n",
    "        val = mod_data.iloc[:,-1].value_counts()\n",
    "        return mod_data, val"
   ]
  },
  {
   "cell_type": "markdown",
   "metadata": {},
   "source": [
    "### 6. применить random negative sampling для построения классификатора в новых условиях"
   ]
  },
  {
   "cell_type": "code",
   "execution_count": 40,
   "metadata": {},
   "outputs": [],
   "source": [
    "def rnc(mod_data, detail=True):\n",
    "    \n",
    "    mod_data = mod_data.sample(frac=1)\n",
    "    neg_sample = mod_data[mod_data['class_test']==-1][:len(mod_data[mod_data['class_test']==1])]\n",
    "    sample_test = mod_data[mod_data['class_test']==-1][len(mod_data[mod_data['class_test']==1]):]\n",
    "    pos_sample = mod_data[mod_data['class_test']==1]\n",
    "    if detail == True:\n",
    "        print(neg_sample.shape, pos_sample.shape)\n",
    "    sample_train = pd.concat([neg_sample, pos_sample]).sample(frac=1)\n",
    "    \n",
    "    return sample_train, sample_test"
   ]
  },
  {
   "cell_type": "markdown",
   "metadata": {},
   "source": [
    "### 7. сравнить качество с решением из пункта 4 (построить отчет - таблицу метрик)"
   ]
  },
  {
   "cell_type": "code",
   "execution_count": 41,
   "metadata": {},
   "outputs": [],
   "source": [
    "def get_model(sample_train, sample_test, detail=True):\n",
    "    \n",
    "    X_train = sample_train.drop(['target', 'class_test'], axis=1)\n",
    "    y_train = sample_train['target']\n",
    "    X_valid = sample_test.drop(['target', 'class_test'], axis=1)\n",
    "    y_valid = sample_test['target']\n",
    "    \n",
    "    model = cb.CatBoostClassifier(**params, silent=True)\n",
    "\n",
    "    model.fit(X_train, y_train, \n",
    "                eval_set=[(X_train, y_train), (X_valid, y_valid)])\n",
    "\n",
    "\n",
    "    preds = model.predict_proba(X_valid)[:, 1:]\n",
    "    \n",
    "    if detail == True:\n",
    "        get_metrics(y_valid, preds)\n",
    "        \n",
    "    else:\n",
    "        thresholds, fscore, precision, recall, roc_auc, logloss = get_metrics(y_valid, preds, detail)\n",
    "        return thresholds, fscore, precision, recall, roc_auc, logloss"
   ]
  },
  {
   "cell_type": "code",
   "execution_count": 42,
   "metadata": {},
   "outputs": [
    {
     "name": "stdout",
     "output_type": "stream",
     "text": [
      "Using 153/610 as positives and unlabeling the rest\n",
      "target variable:\n",
      " -1    1219\n",
      " 1     153\n",
      "Name: class_test, dtype: int64\n",
      "(153, 1026) (153, 1026)\n",
      "Best Threshold=0.717234, F-Score=1.000, Precision=1.000, Recall=1.000, Roc-AUC=1.000, log-loss=0.173\n",
      "Confusion matrix, without normalization\n",
      "[[662   0]\n",
      " [  1 403]]\n"
     ]
    },
    {
     "data": {
      "image/png": "[encoded data removed]",
      "text/plain": [
       "<Figure size 576x432 with 2 Axes>"
      ]
     },
     "metadata": {
      "needs_background": "light"
     },
     "output_type": "display_data"
    }
   ],
   "source": [
    "mod_data = separation()\n",
    "sample_train, sample_test = rnc(mod_data)\n",
    "get_model(sample_train, sample_test)"
   ]
  },
  {
   "cell_type": "markdown",
   "metadata": {},
   "source": [
    "### 8. поэкспериментировать с долей P на шаге 5 (как будет меняться качество модели при уменьшении/увеличении размера P)"
   ]
  },
  {
   "cell_type": "code",
   "execution_count": 43,
   "metadata": {},
   "outputs": [
    {
     "data": {
      "text/html": [
       "<div>\n",
       "<style scoped>\n",
       "    .dataframe tbody tr th:only-of-type {\n",
       "        vertical-align: middle;\n",
       "    }\n",
       "\n",
       "    .dataframe tbody tr th {\n",
       "        vertical-align: top;\n",
       "    }\n",
       "\n",
       "    .dataframe thead th {\n",
       "        text-align: right;\n",
       "    }\n",
       "</style>\n",
       "<table border=\"1\" class=\"dataframe\">\n",
       "  <thead>\n",
       "    <tr style=\"text-align: right;\">\n",
       "      <th></th>\n",
       "      <th>class -1</th>\n",
       "      <th>class 1</th>\n",
       "      <th>sample_train</th>\n",
       "      <th>sample_test</th>\n",
       "      <th>Threshold</th>\n",
       "      <th>F-Score</th>\n",
       "      <th>Precision</th>\n",
       "      <th>Recall</th>\n",
       "      <th>Roc-AUC</th>\n",
       "      <th>log-loss</th>\n",
       "    </tr>\n",
       "  </thead>\n",
       "  <tbody>\n",
       "    <tr>\n",
       "      <th>Доля P_0.1</th>\n",
       "      <td>1311</td>\n",
       "      <td>61</td>\n",
       "      <td>122</td>\n",
       "      <td>1250</td>\n",
       "      <td>0.623202</td>\n",
       "      <td>0.989671</td>\n",
       "      <td>0.979554</td>\n",
       "      <td>1</td>\n",
       "      <td>0.999</td>\n",
       "      <td>0.21</td>\n",
       "    </tr>\n",
       "    <tr>\n",
       "      <th>Доля P_0.2</th>\n",
       "      <td>1250</td>\n",
       "      <td>122</td>\n",
       "      <td>244</td>\n",
       "      <td>1128</td>\n",
       "      <td>0.799641</td>\n",
       "      <td>0.989643</td>\n",
       "      <td>1</td>\n",
       "      <td>0.979499</td>\n",
       "      <td>1</td>\n",
       "      <td>0.205</td>\n",
       "    </tr>\n",
       "    <tr>\n",
       "      <th>Доля P_0.3</th>\n",
       "      <td>1189</td>\n",
       "      <td>183</td>\n",
       "      <td>366</td>\n",
       "      <td>1006</td>\n",
       "      <td>0.774953</td>\n",
       "      <td>1</td>\n",
       "      <td>1</td>\n",
       "      <td>1</td>\n",
       "      <td>1</td>\n",
       "      <td>0.13</td>\n",
       "    </tr>\n",
       "    <tr>\n",
       "      <th>Доля P_0.4</th>\n",
       "      <td>1128</td>\n",
       "      <td>244</td>\n",
       "      <td>488</td>\n",
       "      <td>884</td>\n",
       "      <td>0.607608</td>\n",
       "      <td>1</td>\n",
       "      <td>1</td>\n",
       "      <td>1</td>\n",
       "      <td>1</td>\n",
       "      <td>0.394</td>\n",
       "    </tr>\n",
       "    <tr>\n",
       "      <th>Доля P_0.5</th>\n",
       "      <td>1067</td>\n",
       "      <td>305</td>\n",
       "      <td>610</td>\n",
       "      <td>762</td>\n",
       "      <td>0.685893</td>\n",
       "      <td>1</td>\n",
       "      <td>1</td>\n",
       "      <td>1</td>\n",
       "      <td>1</td>\n",
       "      <td>0.144</td>\n",
       "    </tr>\n",
       "    <tr>\n",
       "      <th>Доля P_0.6</th>\n",
       "      <td>1006</td>\n",
       "      <td>366</td>\n",
       "      <td>732</td>\n",
       "      <td>640</td>\n",
       "      <td>0.845624</td>\n",
       "      <td>0.9967</td>\n",
       "      <td>1</td>\n",
       "      <td>0.993421</td>\n",
       "      <td>1</td>\n",
       "      <td>0.089</td>\n",
       "    </tr>\n",
       "    <tr>\n",
       "      <th>Доля P_0.7</th>\n",
       "      <td>945</td>\n",
       "      <td>427</td>\n",
       "      <td>854</td>\n",
       "      <td>518</td>\n",
       "      <td>0.620682</td>\n",
       "      <td>1</td>\n",
       "      <td>1</td>\n",
       "      <td>1</td>\n",
       "      <td>1</td>\n",
       "      <td>0.357</td>\n",
       "    </tr>\n",
       "    <tr>\n",
       "      <th>Доля P_0.8</th>\n",
       "      <td>884</td>\n",
       "      <td>488</td>\n",
       "      <td>976</td>\n",
       "      <td>396</td>\n",
       "      <td>0.65141</td>\n",
       "      <td>1</td>\n",
       "      <td>1</td>\n",
       "      <td>1</td>\n",
       "      <td>1</td>\n",
       "      <td>0.266</td>\n",
       "    </tr>\n",
       "    <tr>\n",
       "      <th>Доля P_0.9</th>\n",
       "      <td>823</td>\n",
       "      <td>549</td>\n",
       "      <td>1098</td>\n",
       "      <td>274</td>\n",
       "      <td>0.586215</td>\n",
       "      <td>1</td>\n",
       "      <td>1</td>\n",
       "      <td>1</td>\n",
       "      <td>1</td>\n",
       "      <td>0.421</td>\n",
       "    </tr>\n",
       "  </tbody>\n",
       "</table>\n",
       "</div>"
      ],
      "text/plain": [
       "           class -1 class 1 sample_train sample_test Threshold   F-Score  \\\n",
       "Доля P_0.1     1311      61          122        1250  0.623202  0.989671   \n",
       "Доля P_0.2     1250     122          244        1128  0.799641  0.989643   \n",
       "Доля P_0.3     1189     183          366        1006  0.774953         1   \n",
       "Доля P_0.4     1128     244          488         884  0.607608         1   \n",
       "Доля P_0.5     1067     305          610         762  0.685893         1   \n",
       "Доля P_0.6     1006     366          732         640  0.845624    0.9967   \n",
       "Доля P_0.7      945     427          854         518  0.620682         1   \n",
       "Доля P_0.8      884     488          976         396   0.65141         1   \n",
       "Доля P_0.9      823     549         1098         274  0.586215         1   \n",
       "\n",
       "           Precision    Recall Roc-AUC log-loss  \n",
       "Доля P_0.1  0.979554         1   0.999     0.21  \n",
       "Доля P_0.2         1  0.979499       1    0.205  \n",
       "Доля P_0.3         1         1       1     0.13  \n",
       "Доля P_0.4         1         1       1    0.394  \n",
       "Доля P_0.5         1         1       1    0.144  \n",
       "Доля P_0.6         1  0.993421       1    0.089  \n",
       "Доля P_0.7         1         1       1    0.357  \n",
       "Доля P_0.8         1         1       1    0.266  \n",
       "Доля P_0.9         1         1       1    0.421  "
      ]
     },
     "execution_count": 43,
     "metadata": {},
     "output_type": "execute_result"
    }
   ],
   "source": [
    "stata_model = pd.DataFrame(columns=['class -1', 'class 1', 'sample_train', 'sample_test', 'Threshold', 'F-Score',\n",
    "                                   'Precision', 'Recall', 'Roc-AUC', 'log-loss'])\n",
    "\n",
    "for i in [0.1, 0.2, 0.3, 0.4, 0.5, 0.6, 0.7, 0.8, 0.9]:\n",
    "    \n",
    "    mod_data, val = separation(coef=i, detail=False)\n",
    "    stata_model.loc[f'Доля P_{i}', 'class -1'] = val[-1]\n",
    "    stata_model.loc[f'Доля P_{i}', 'class 1'] = val[1]\n",
    "\n",
    "    sample_train, sample_test = rnc(mod_data, detail=False)\n",
    "    stata_model.loc[f'Доля P_{i}', 'sample_train'] = sample_train.shape[0]\n",
    "    stata_model.loc[f'Доля P_{i}', 'sample_test'] = sample_test.shape[0]\n",
    "\n",
    "    thresholds, fscore, precision, recall, roc_auc, logloss = get_model(sample_train, sample_test, detail=False)\n",
    "    stata_model.loc[f'Доля P_{i}', 'Threshold'] = thresholds\n",
    "    stata_model.loc[f'Доля P_{i}', 'log-loss'] = logloss\n",
    "    stata_model.loc[f'Доля P_{i}', 'F-Score'] = fscore\n",
    "    stata_model.loc[f'Доля P_{i}', 'Precision'] = precision\n",
    "    stata_model.loc[f'Доля P_{i}', 'Recall'] = recall\n",
    "    stata_model.loc[f'Доля P_{i}', 'Roc-AUC'] = roc_auc\n",
    "    \n",
    "stata_model"
   ]
  },
  {
   "cell_type": "markdown",
   "metadata": {},
   "source": [
    "<b>Бонусный вопрос:</b>\n",
    "\n",
    "Как вы думаете, какой из методов на практике является более предпочтительным: random negative sampling или 2-step approach? \n",
    "- думаю, что более предпочтительный метод - это random negative sampling"
   ]
  },
  {
   "cell_type": "code",
   "execution_count": null,
   "metadata": {},
   "outputs": [],
   "source": []
  }
 ],
 "metadata": {
  "kernelspec": {
   "display_name": "Python 3",
   "language": "python",
   "name": "python3"
  },
  "language_info": {
   "codemirror_mode": {
    "name": "ipython",
    "version": 3
   },
   "file_extension": ".py",
   "mimetype": "text/x-python",
   "name": "python",
   "nbconvert_exporter": "python",
   "pygments_lexer": "ipython3",
   "version": "3.8.5"
  }
 },
 "nbformat": 4,
 "nbformat_minor": 4
}
